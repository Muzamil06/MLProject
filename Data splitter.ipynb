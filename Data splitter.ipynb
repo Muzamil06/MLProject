{
 "cells": [
  {
   "cell_type": "code",
   "execution_count": 7,
   "id": "5fa47856",
   "metadata": {},
   "outputs": [
    {
     "name": "stdout",
     "output_type": "stream",
     "text": [
      "Dataset split completed.\n"
     ]
    }
   ],
   "source": [
    "import os\n",
    "import shutil\n",
    "import pandas as pd\n",
    "from sklearn.model_selection import train_test_split\n",
    "\n",
    "# Paths setup\n",
    "data_dir = 'resized_train/resized_train'  # Replace with the path to your images\n",
    "csv_path = 'Trainlabels.csv'  # Replace with the path to your CSV file\n",
    "output_dir = 'resized_train'  # Replace with the path where you want to save the split datasets\n",
    "\n",
    "# Read the CSV file\n",
    "df = pd.read_csv(csv_path)\n",
    "\n",
    "# Split the dataframe into train, validation, and test sets\n",
    "train_df, test_df = train_test_split(df, test_size=0.3, random_state=42)  # 70% training and 30% testing\n",
    "val_df, test_df = train_test_split(test_df, test_size=0.5, random_state=42)  # Splitting the 30% into 15% validation and 15% testing\n",
    "\n",
    "# Function to copy images to train, val, and test directories\n",
    "def copy_images(dataframe, subdir):\n",
    "    target_folder = os.path.join(output_dir, subdir)\n",
    "    os.makedirs(target_folder, exist_ok=True)\n",
    "    for image_name in dataframe['image']:  # Replace 'image_column_name' with the column name in your CSV\n",
    "        image_path = os.path.join(data_dir, image_name)\n",
    "        if os.path.isfile(image_path):\n",
    "            shutil.copy(image_path, target_folder)\n",
    "\n",
    "# Copy images to respective directories\n",
    "copy_images(train_df, 'train')\n",
    "copy_images(val_df, 'val')\n",
    "copy_images(test_df, 'test')\n",
    "\n",
    "# Save the dataframes as new CSV files\n",
    "train_df.to_csv(os.path.join(output_dir, 'train_labels.csv'), index=False)\n",
    "val_df.to_csv(os.path.join(output_dir, 'val_labels.csv'), index=False)\n",
    "test_df.to_csv(os.path.join(output_dir, 'test_labels.csv'), index=False)\n",
    "\n",
    "print(\"Dataset split completed.\")\n"
   ]
  },
  {
   "cell_type": "code",
   "execution_count": 13,
   "id": "0d5819f2",
   "metadata": {},
   "outputs": [
    {
     "name": "stdout",
     "output_type": "stream",
     "text": [
      "File not found: resized_train/resized_train\\19803_right.jpg\n",
      "File not found: resized_train/resized_train\\29482_right.jpg\n",
      "File not found: resized_train/resized_train\\22473_left.jpg\n",
      "Dataset split completed.\n"
     ]
    }
   ],
   "source": [
    "import os\n",
    "import shutil\n",
    "import pandas as pd\n",
    "from sklearn.model_selection import train_test_split\n",
    "\n",
    "# Paths setup\n",
    "data_dir = 'resized_train/resized_train'  # Replace with the path to your images\n",
    "csv_path = 'Trainlabels.csv'  # Replace with the path to your CSV file\n",
    "output_dir = 'resized_train'  # Replace with the path where you want to save the split datasets\n",
    "\n",
    "# Read the CSV file\n",
    "df = pd.read_csv(csv_path)\n",
    "\n",
    "# Split the dataframe into train, validation, and test sets\n",
    "train_df, test_df = train_test_split(df, test_size=0.3, random_state=42)  # 70% training and 30% testing\n",
    "val_df, test_df = train_test_split(test_df, test_size=0.5, random_state=42)  # Splitting the 30% into 15% validation and 15% testing\n",
    "\n",
    "# Function to copy images to train, val, and test directories\n",
    "def copy_images(dataframe, subdir):\n",
    "    target_folder = os.path.join(output_dir, subdir)\n",
    "    os.makedirs(target_folder, exist_ok=True)\n",
    "    for image_name in dataframe['image']:\n",
    "        image_name_with_extension = image_name + '.jpg'  # append the '.jpg' extension\n",
    "        image_path = os.path.join(data_dir, image_name_with_extension)\n",
    "    if os.path.isfile(image_path):\n",
    "        shutil.copy(image_path, target_folder)\n",
    "    else:\n",
    "        print(f\"File not found: {image_path}\")\n",
    "\n",
    "# Copy images to respective directories\n",
    "copy_images(train_df, 'train')\n",
    "copy_images(val_df, 'val')\n",
    "copy_images(test_df, 'test')\n",
    "\n",
    "# Save the dataframes as new CSV files\n",
    "train_df.to_csv(os.path.join(output_dir, 'train_labels.csv'), index=False)\n",
    "val_df.to_csv(os.path.join(output_dir, 'val_labels.csv'), index=False)\n",
    "test_df.to_csv(os.path.join(output_dir, 'test_labels.csv'), index=False)\n",
    "\n",
    "print(\"Dataset split completed.\")\n"
   ]
  },
  {
   "cell_type": "code",
   "execution_count": null,
   "id": "dfe04683",
   "metadata": {},
   "outputs": [],
   "source": []
  }
 ],
 "metadata": {
  "kernelspec": {
   "display_name": "python311",
   "language": "python",
   "name": "python311"
  },
  "language_info": {
   "codemirror_mode": {
    "name": "ipython",
    "version": 3
   },
   "file_extension": ".py",
   "mimetype": "text/x-python",
   "name": "python",
   "nbconvert_exporter": "python",
   "pygments_lexer": "ipython3",
   "version": "3.11.0"
  }
 },
 "nbformat": 4,
 "nbformat_minor": 5
}
